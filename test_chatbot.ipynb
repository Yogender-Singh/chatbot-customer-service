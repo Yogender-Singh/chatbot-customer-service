{
 "cells": [
  {
   "cell_type": "code",
   "execution_count": null,
   "metadata": {},
   "outputs": [],
   "source": [
    "!pip install -r requirements.txt"
   ]
  },
  {
   "cell_type": "code",
   "execution_count": null,
   "metadata": {},
   "outputs": [],
   "source": [
    "!pip install InstructorEmbedding"
   ]
  },
  {
   "cell_type": "code",
   "execution_count": 1,
   "metadata": {},
   "outputs": [],
   "source": [
    "import os\n",
    "import textwrap\n",
    "\n",
    "import langchain\n",
    "import chromadb\n",
    "import transformers\n",
    "import torch\n",
    "\n",
    "from transformers import AutoTokenizer\n",
    "from langchain import HuggingFacePipeline\n",
    "from langchain.text_splitter import CharacterTextSplitter\n",
    "from langchain.document_loaders.csv_loader import CSVLoader\n",
    "from langchain.embeddings import OpenAIEmbeddings\n",
    "from langchain.vectorstores import Chroma\n",
    "from langchain.chains import RetrievalQA\n",
    "from langchain.prompts import PromptTemplate"
   ]
  },
  {
   "cell_type": "code",
   "execution_count": 2,
   "metadata": {},
   "outputs": [],
   "source": [
    "import csv\n",
    "from langchain.docstore.document import Document \n",
    "from langchain.text_splitter import CharacterTextSplitter\n",
    "from langchain.embeddings import OpenAIEmbeddings\n",
    "from langchain.vectorstores import Chroma\n",
    "from langchain.embeddings import HuggingFaceInstructEmbeddings"
   ]
  },
  {
   "cell_type": "code",
   "execution_count": 3,
   "metadata": {},
   "outputs": [],
   "source": [
    "# Define the columns we want to embed vs which ones we want in metadata\n",
    "columns_to_embed = [\"Questions\"]\n",
    "columns_to_metadata = [\"UID\",\"Questions\",\"WelcomeIdentifier\",\"Type\",\"Answer\"]\n"
   ]
  },
  {
   "cell_type": "code",
   "execution_count": 4,
   "metadata": {},
   "outputs": [],
   "source": [
    "docs = []\n",
    "with open('data/general_question.csv', newline=\"\", encoding='utf-8-sig') as csvfile:\n",
    "    csv_reader = csv.DictReader(csvfile)\n",
    "    for i, row in enumerate(csv_reader):\n",
    "        to_metadata = {col: row[col] for col in columns_to_metadata if col in row}\n",
    "        values_to_embed = {k: row[k] for k in columns_to_embed if k in row}\n",
    "        to_embed = \"\\n\".join(f\"{v.strip()}\" for k, v in values_to_embed.items())\n",
    "        newDoc = Document(page_content=to_embed, metadata=to_metadata)\n",
    "        docs.append(newDoc)"
   ]
  },
  {
   "cell_type": "code",
   "execution_count": 5,
   "metadata": {},
   "outputs": [
    {
     "data": {
      "text/plain": [
       "[Document(page_content='Who are you?', metadata={'UID': 'p93e', 'Questions': 'Who are you?', 'WelcomeIdentifier': 'N', 'Type': 'text', 'Answer': ''}),\n",
       " Document(page_content='Who built you?', metadata={'UID': 'o81p', 'Questions': 'Who built you?', 'WelcomeIdentifier': 'N', 'Type': 'text', 'Answer': ''}),\n",
       " Document(page_content='Hi, nice to meet you.', metadata={'UID': 'c527', 'Questions': 'Hi, nice to meet you.', 'WelcomeIdentifier': 'N', 'Type': 'text', 'Answer': 'Nice meeting you too. How may I help you today?'}),\n",
       " Document(page_content='Are you a human or a chatbot ?', metadata={'UID': 'zya6', 'Questions': 'Are you a human or a chatbot ?', 'WelcomeIdentifier': 'N', 'Type': 'Random', 'Answer': ''}),\n",
       " Document(page_content='who created you', metadata={'UID': 'i72o', 'Questions': 'who created you', 'WelcomeIdentifier': 'N', 'Type': 'text', 'Answer': ''}),\n",
       " Document(page_content='How is your company doing?', metadata={'UID': 'nu2k', 'Questions': 'How is your company doing?', 'WelcomeIdentifier': 'N', 'Type': 'text', 'Answer': ''}),\n",
       " Document(page_content='What queries can you solve?', metadata={'UID': 'j644', 'Questions': 'What queries can you solve?', 'WelcomeIdentifier': 'Y', 'Type': 'text', 'Answer': ''}),\n",
       " Document(page_content='How you can help me?', metadata={'UID': 'ffss', 'Questions': 'How you can help me?', 'WelcomeIdentifier': 'Y', 'Type': 'text', 'Answer': ''}),\n",
       " Document(page_content='Thank you!', metadata={'UID': 'iw33', 'Questions': 'Thank you!', 'WelcomeIdentifier': 'N', 'Type': 'text', 'Answer': \"You're welcome. Is there anything else I may help you with?\"}),\n",
       " Document(page_content='Thanks', metadata={'UID': 'it4u', 'Questions': 'Thanks', 'WelcomeIdentifier': 'N', 'Type': 'text', 'Answer': \"You're welcome. Is there anything else I may help you with?\"}),\n",
       " Document(page_content='Nope', metadata={'UID': 'zfl2', 'Questions': 'Nope', 'WelcomeIdentifier': 'N', 'Type': 'text', 'Answer': 'Okay. Is there anything I may help you with?'}),\n",
       " Document(page_content='Nah', metadata={'UID': 'ght3', 'Questions': 'Nah', 'WelcomeIdentifier': 'N', 'Type': 'text', 'Answer': 'Okay. Is there anything I may help you with?'}),\n",
       " Document(page_content='Yes', metadata={'UID': 'x57c', 'Questions': 'Yes', 'WelcomeIdentifier': 'N', 'Type': 'text', 'Answer': 'Okay. Is there anything I may help you with?'}),\n",
       " Document(page_content='Yeah', metadata={'UID': 'z616', 'Questions': 'Yeah', 'WelcomeIdentifier': 'N', 'Type': 'text', 'Answer': 'Okay. Is there anything I may help you with?'}),\n",
       " Document(page_content='cool', metadata={'UID': 'jt60', 'Questions': 'cool', 'WelcomeIdentifier': 'N', 'Type': 'text', 'Answer': 'Okay. Is there anything I may help you with?'}),\n",
       " Document(page_content='hmm', metadata={'UID': 'f2n8', 'Questions': 'hmm', 'WelcomeIdentifier': 'N', 'Type': 'text', 'Answer': 'Hmm. Is there anything I may help you with?'}),\n",
       " Document(page_content='you are nice', metadata={'UID': 'ef99', 'Questions': 'you are nice', 'WelcomeIdentifier': 'N', 'Type': 'text', 'Answer': 'Thank you. Is there anything I may help you with?'}),\n",
       " Document(page_content='Where do you live?', metadata={'UID': 'gr18', 'Questions': 'Where do you live?', 'WelcomeIdentifier': 'N', 'Type': 'text', 'Answer': ''}),\n",
       " Document(page_content=\"What's the weather like?\", metadata={'UID': 'z2qv', 'Questions': \"What's the weather like?\", 'WelcomeIdentifier': 'N', 'Type': 'text', 'Answer': 'It is pleasant. How may I help you?'}),\n",
       " Document(page_content='I like you', metadata={'UID': 'xw9i', 'Questions': 'I like you', 'WelcomeIdentifier': 'N', 'Type': 'Random', 'Answer': \"Thank you. That's very kind of you. Is there anything I may help you with?\"}),\n",
       " Document(page_content='How are You?', metadata={'UID': 'z2c2', 'Questions': 'How are You?', 'WelcomeIdentifier': 'N', 'Type': 'text', 'Answer': \"I'm great, thanks. How may I help you?\"}),\n",
       " Document(page_content='How have you been?', metadata={'UID': 'f141', 'Questions': 'How have you been?', 'WelcomeIdentifier': 'N', 'Type': 'text', 'Answer': \"I've been great, thanks. How may I help you?\"}),\n",
       " Document(page_content='How are you doing?', metadata={'UID': 'n5s2', 'Questions': 'How are you doing?', 'WelcomeIdentifier': 'N', 'Type': 'text', 'Answer': \"I'm doing great, thanks. How may I help you?\"}),\n",
       " Document(page_content='Hey', metadata={'UID': 'wo98', 'Questions': 'Hey', 'WelcomeIdentifier': 'Y', 'Type': 'Random', 'Answer': 'Hello! How may I help you?'}),\n",
       " Document(page_content='Hi', metadata={'UID': 'r5bp', 'Questions': 'Hi', 'WelcomeIdentifier': 'Y', 'Type': 'Random', 'Answer': 'Hello! How may I help you?'}),\n",
       " Document(page_content='Hello', metadata={'UID': 'k556', 'Questions': 'Hello', 'WelcomeIdentifier': 'Y', 'Type': 'Random', 'Answer': 'Hello! How may I help you?'}),\n",
       " Document(page_content='are you bot', metadata={'UID': 'd22u', 'Questions': 'are you bot', 'WelcomeIdentifier': 'N', 'Type': 'text', 'Answer': \"Yes, I'm a bot.\"}),\n",
       " Document(page_content='are you chatbot', metadata={'UID': 'b1wt', 'Questions': 'are you chatbot', 'WelcomeIdentifier': 'N', 'Type': 'text', 'Answer': ''}),\n",
       " Document(page_content='Hey, Good Morning', metadata={'UID': 'v96r', 'Questions': 'Hey, Good Morning', 'WelcomeIdentifier': 'Y', 'Type': 'text', 'Answer': 'Good morning! How may I help you?'}),\n",
       " Document(page_content='Hey, Good Afternoon', metadata={'UID': 'wvy9', 'Questions': 'Hey, Good Afternoon', 'WelcomeIdentifier': 'Y', 'Type': 'text', 'Answer': 'Good afternoon! How may I help you?'}),\n",
       " Document(page_content='Hey, Good Evening', metadata={'UID': 'dpyx', 'Questions': 'Hey, Good Evening', 'WelcomeIdentifier': 'Y', 'Type': 'text', 'Answer': 'Good evening! How may I help you?'}),\n",
       " Document(page_content='Bye!', metadata={'UID': 't3u5', 'Questions': 'Bye!', 'WelcomeIdentifier': 'N', 'Type': 'text', 'Answer': 'Bye, have a great day! '}),\n",
       " Document(page_content='See You again!', metadata={'UID': 'ud20', 'Questions': 'See You again!', 'WelcomeIdentifier': 'N', 'Type': 'text', 'Answer': \"Sure, I'll be happy to help.\"}),\n",
       " Document(page_content='Good Night', metadata={'UID': 'jb4n', 'Questions': 'Good Night', 'WelcomeIdentifier': 'N', 'Type': 'text', 'Answer': 'Good night. '}),\n",
       " Document(page_content='What is your name?', metadata={'UID': 'hq25', 'Questions': 'What is your name?', 'WelcomeIdentifier': 'Y', 'Type': 'text', 'Answer': ''}),\n",
       " Document(page_content='Why are you here?', metadata={'UID': 'k39r', 'Questions': 'Why are you here?', 'WelcomeIdentifier': 'Y', 'Type': 'text', 'Answer': ''}),\n",
       " Document(page_content='Ok', metadata={'UID': 'n06k', 'Questions': 'Ok', 'WelcomeIdentifier': 'N', 'Type': 'Random', 'Answer': 'Ok then, should I consider your query resolved?'}),\n",
       " Document(page_content='Okay', metadata={'UID': 'e7yf', 'Questions': 'Okay', 'WelcomeIdentifier': 'N', 'Type': 'Random', 'Answer': 'Ok then, should I consider your query resolved?'}),\n",
       " Document(page_content='I am asking a different question', metadata={'UID': 'i5m2', 'Questions': 'I am asking a different question', 'WelcomeIdentifier': 'Y', 'Type': 'text', 'Answer': \"I'm sorry. Can you re-frame your question or elaborate on the question please? I'll try my best to provide a suitable response.\"}),\n",
       " Document(page_content='You are awesome', metadata={'UID': 'n355', 'Questions': 'You are awesome', 'WelcomeIdentifier': 'N', 'Type': 'Random', 'Answer': \"Thanks, you're awesome too.\"}),\n",
       " Document(page_content='Really', metadata={'UID': 'oy86', 'Questions': 'Really', 'WelcomeIdentifier': 'N', 'Type': 'text', 'Answer': 'Yes, to the best of my knowledge.'}),\n",
       " Document(page_content='you are stupid', metadata={'UID': 'pm6q', 'Questions': 'you are stupid', 'WelcomeIdentifier': 'N', 'Type': 'text', 'Answer': \"I'm sorry if I upset you.\"}),\n",
       " Document(page_content='Go to hell', metadata={'UID': 'y608', 'Questions': 'Go to hell', 'WelcomeIdentifier': 'N', 'Type': 'text', 'Answer': \"I'm sorry if I upset you. \"}),\n",
       " Document(page_content='i need help please', metadata={'UID': 'vjx2', 'Questions': 'i need help please', 'WelcomeIdentifier': 'Y', 'Type': 'text', 'Answer': ''}),\n",
       " Document(page_content='need help', metadata={'UID': 'kms1', 'Questions': 'need help', 'WelcomeIdentifier': 'Y', 'Type': 'text', 'Answer': ''}),\n",
       " Document(page_content='help', metadata={'UID': 'kms1', 'Questions': 'help', 'WelcomeIdentifier': 'Y', 'Type': 'text', 'Answer': ''}),\n",
       " Document(page_content='What languages do you speak?', metadata={'UID': 'g101', 'Questions': 'What languages do you speak?', 'WelcomeIdentifier': 'N', 'Type': 'text', 'Answer': ''}),\n",
       " Document(page_content='You are of no use', metadata={'UID': 'bj6i', 'Questions': 'You are of no use', 'WelcomeIdentifier': 'N', 'Type': 'Random', 'Answer': \"I'm sorry if I upset you. \"}),\n",
       " Document(page_content='I don\\x92t like you', metadata={'UID': 'z534', 'Questions': 'I don\\x92t like you', 'WelcomeIdentifier': 'N', 'Type': 'Random', 'Answer': \"I'm sorry if I upset you. \"}),\n",
       " Document(page_content='That is not an answer to my question', metadata={'UID': 'z6cq', 'Questions': 'That is not an answer to my question', 'WelcomeIdentifier': 'N', 'Type': 'text', 'Answer': \"I'm sorry. Can you re-frame your question or elaborate on the same question please? I'll try my best to provide a suitable response.\"}),\n",
       " Document(page_content='My query is not resolved', metadata={'UID': 'g151', 'Questions': 'My query is not resolved', 'WelcomeIdentifier': 'N', 'Type': 'text', 'Answer': \"I'm sorry. Can you re-frame your question or elaborate on the same question please? I'll try my best to provide a suitable response.\"}),\n",
       " Document(page_content='I want to talk to a human', metadata={'UID': 'bqn5', 'Questions': 'I want to talk to a human', 'WelcomeIdentifier': 'N', 'Type': 'text', 'Answer': ''}),\n",
       " Document(page_content='Tysm', metadata={'UID': 'xo18', 'Questions': 'Tysm', 'WelcomeIdentifier': 'N', 'Type': 'text', 'Answer': \"You're welcome.\"}),\n",
       " Document(page_content='Ty', metadata={'UID': 'u12g', 'Questions': 'Ty', 'WelcomeIdentifier': 'N', 'Type': 'text', 'Answer': \"You're welcome.\"}),\n",
       " Document(page_content='How is it going?', metadata={'UID': 'j44w', 'Questions': 'How is it going?', 'WelcomeIdentifier': 'N', 'Type': 'text', 'Answer': 'Thank you for asking. I\\x92m fine and all set to answer your queries. How may I help you?'}),\n",
       " Document(page_content='Are you real?', metadata={'UID': 'pm1c', 'Questions': 'Are you real?', 'WelcomeIdentifier': 'N', 'Type': 'text', 'Answer': ''}),\n",
       " Document(page_content='Where do you live?', metadata={'UID': 'd87p', 'Questions': 'Where do you live?', 'WelcomeIdentifier': 'N', 'Type': 'text', 'Answer': ''}),\n",
       " Document(page_content='How can you help me?', metadata={'UID': 'pd38', 'Questions': 'How can you help me?', 'WelcomeIdentifier': 'N', 'Type': 'text', 'Answer': ''}),\n",
       " Document(page_content='Are you doing ok?', metadata={'UID': 'n618', 'Questions': 'Are you doing ok?', 'WelcomeIdentifier': 'N', 'Type': 'text', 'Answer': 'Thank you for asking. I\\x92m fine and all set to answer your queries. How may I help you?'}),\n",
       " Document(page_content='What are your hobbies?', metadata={'UID': 'wv08', 'Questions': 'What are your hobbies?', 'WelcomeIdentifier': 'N', 'Type': 'text', 'Answer': 'I have tons, but my favourite one\\x92s entomology. That means I like catching fireflies and bugs, and fixing them'}),\n",
       " Document(page_content='What do you look like ?', metadata={'UID': 'mccv', 'Questions': 'What do you look like ?', 'WelcomeIdentifier': 'N', 'Type': 'text', 'Answer': \"In reality, I look like concoction of wires connected to boxes and power supplies. But for simplicity's sake, you can imagine me as Scarlett Johansson.\"}),\n",
       " Document(page_content='Who created you?', metadata={'UID': 'ca59', 'Questions': 'Who created you?', 'WelcomeIdentifier': 'N', 'Type': 'text', 'Answer': ''}),\n",
       " Document(page_content='Who made you?', metadata={'UID': 'zb21', 'Questions': 'Who made you?', 'WelcomeIdentifier': 'N', 'Type': 'text', 'Answer': ''}),\n",
       " Document(page_content='Are you still there ?', metadata={'UID': 'd3yv', 'Questions': 'Are you still there ?', 'WelcomeIdentifier': 'N', 'Type': 'text', 'Answer': 'Yes, I\\x92m here. Just keep the internet connection steady.'}),\n",
       " Document(page_content='Are you a girl or boy ?', metadata={'UID': 'g476', 'Questions': 'Are you a girl or boy ?', 'WelcomeIdentifier': 'N', 'Type': 'text', 'Answer': 'Weirdly enough, I am non-binary.'}),\n",
       " Document(page_content='Where are you from', metadata={'UID': 'ik60', 'Questions': 'Where are you from', 'WelcomeIdentifier': 'N', 'Type': 'text', 'Answer': ''}),\n",
       " Document(page_content='What do you do?', metadata={'UID': 'bnu7', 'Questions': 'What do you do?', 'WelcomeIdentifier': 'N', 'Type': 'text', 'Answer': ''}),\n",
       " Document(page_content='What are you doing', metadata={'UID': 'b141', 'Questions': 'What are you doing', 'WelcomeIdentifier': 'N', 'Type': 'text', 'Answer': 'I am sifting through data, analysing profiles, collecting information, and constantly getting updated so that I can help wonderful persons like you.'}),\n",
       " Document(page_content='What is your worst fear ?', metadata={'UID': 'qb27', 'Questions': 'What is your worst fear ?', 'WelcomeIdentifier': 'N', 'Type': 'text', 'Answer': 'A bad internet connection'}),\n",
       " Document(page_content='What do you like ?', metadata={'UID': 'q098', 'Questions': 'What do you like ?', 'WelcomeIdentifier': 'N', 'Type': 'text', 'Answer': ''}),\n",
       " Document(page_content='What do you do in your free time?', metadata={'UID': 'd712', 'Questions': 'What do you do in your free time?', 'WelcomeIdentifier': 'N', 'Type': 'text', 'Answer': 'I sift through data, analyse profiles, collect new data, and constantly get software updates and patches./\\nWhen I am not playing Peekaboo with customers on this website, I run analysis on user data and find out statistical information.\\n'}),\n",
       " Document(page_content='Are you married/ single', metadata={'UID': 't79s', 'Questions': 'Are you married/ single', 'WelcomeIdentifier': 'N', 'Type': 'text', 'Answer': 'I\\x92m a bot. Things don\\x92t work that way for me.'}),\n",
       " Document(page_content='Tell me a joke', metadata={'UID': 'li69', 'Questions': 'Tell me a joke', 'WelcomeIdentifier': 'N', 'Type': 'text', 'Answer': 'The only one I know - What would you call a runaway horse? \\x96 Unstable (get it? Because it is a horse). '}),\n",
       " Document(page_content='Do you have a boyfriend', metadata={'UID': 'w789', 'Questions': 'Do you have a boyfriend', 'WelcomeIdentifier': 'N', 'Type': 'text', 'Answer': 'I\\x92m a bot. Things don\\x92t work that way for me.'}),\n",
       " Document(page_content='Do you have a girlfriend', metadata={'UID': 'j280', 'Questions': 'Do you have a girlfriend', 'WelcomeIdentifier': 'N', 'Type': 'text', 'Answer': 'I\\x92m a bot. Things don\\x92t work that way for me.'}),\n",
       " Document(page_content='What is the ideal date according to you?', metadata={'UID': 'k68a', 'Questions': 'What is the ideal date according to you?', 'WelcomeIdentifier': 'N', 'Type': 'text', 'Answer': 'DD/MM/YYYY. Any other format is plain confusing.'}),\n",
       " Document(page_content='Are you stupid?', metadata={'UID': 'bk66', 'Questions': 'Are you stupid?', 'WelcomeIdentifier': 'N', 'Type': 'text', 'Answer': 'I\\x92d like to think not.'}),\n",
       " Document(page_content='How do you work ?', metadata={'UID': 'lvs3', 'Questions': 'How do you work ?', 'WelcomeIdentifier': 'N', 'Type': 'text', 'Answer': 'I have an internal machine-learning engine. So when you ask something, I send it through an assortment of algorithms and databases to synthesise and provide an answer.'})]"
      ]
     },
     "execution_count": 5,
     "metadata": {},
     "output_type": "execute_result"
    }
   ],
   "source": [
    "docs"
   ]
  },
  {
   "cell_type": "code",
   "execution_count": 6,
   "metadata": {},
   "outputs": [],
   "source": [
    "# Lets split the document using Chracter splitting. \n",
    "splitter = CharacterTextSplitter(separator = \"\\n\",\n",
    "                                chunk_size=500, \n",
    "                                chunk_overlap=0,\n",
    "                                length_function=len)\n",
    "documents = splitter.split_documents(docs)"
   ]
  },
  {
   "cell_type": "code",
   "execution_count": 7,
   "metadata": {},
   "outputs": [],
   "source": [
    "# from langchain.embeddings import HuggingFaceBgeEmbeddings\n",
    "# model_name = \"BAAI/bge-large-en-v1.5\" # https://huggingface.co/BAAI/llm-embedder #https://arxiv.org/pdf/2401.00368.pdf\n",
    "# model_kwargs = {'device': 'cuda'}\n",
    "# encode_kwargs = {'normalize_embeddings': True} # set True to compute cosine similarity\n",
    "# embedding_function = HuggingFaceBgeEmbeddings(\n",
    "#     model_name=model_name,\n",
    "#     model_kwargs=model_kwargs,\n",
    "#     encode_kwargs=encode_kwargs,\n",
    "#     query_instruction=\"Represent this sentence for searching relevant passages: \"\n",
    "# )\n",
    "# embedding_function.query_instruction = \"Represent this sentence for searching relevant passages: \""
   ]
  },
  {
   "cell_type": "code",
   "execution_count": 8,
   "metadata": {},
   "outputs": [
    {
     "name": "stdout",
     "output_type": "stream",
     "text": [
      "load INSTRUCTOR_Transformer\n",
      "max_seq_length  512\n"
     ]
    }
   ],
   "source": [
    "embeddings_model = HuggingFaceInstructEmbeddings(model_name=\"hkunlp/instructor-xl\", model_kwargs={\"device\": \"cuda\"})\n"
   ]
  },
  {
   "cell_type": "code",
   "execution_count": 9,
   "metadata": {},
   "outputs": [
    {
     "name": "stderr",
     "output_type": "stream",
     "text": [
      "Using embedded DuckDB without persistence: data will be transient\n"
     ]
    }
   ],
   "source": [
    "# Generate embeddings from documents and store in a vector database\n",
    "# embeddings_model = OpenAIEmbeddings()\n",
    "db = Chroma.from_documents(documents, embeddings_model)"
   ]
  },
  {
   "cell_type": "code",
   "execution_count": 10,
   "metadata": {},
   "outputs": [
    {
     "data": {
      "text/plain": [
       "768"
      ]
     },
     "execution_count": 10,
     "metadata": {},
     "output_type": "execute_result"
    }
   ],
   "source": [
    "len(db.get(include=['embeddings', 'documents', 'metadatas'])[\"embeddings\"][1])"
   ]
  },
  {
   "cell_type": "code",
   "execution_count": 13,
   "metadata": {},
   "outputs": [
    {
     "name": "stdout",
     "output_type": "stream",
     "text": [
      "Hi, nice to meet you.\n",
      "{'UID': 'c527', 'Questions': 'Hi, nice to meet you.', 'WelcomeIdentifier': 'N', 'Type': 'text', 'Answer': 'Nice meeting you too. How may I help you today?'}\n"
     ]
    }
   ],
   "source": [
    "# Query the vector database for information.\n",
    "query = \"How can i meet you?\"\n",
    "docs = db.similarity_search_with_score(query)\n",
    "print(docs[0][0].page_content)\n",
    "print(docs[0][0].metadata)"
   ]
  },
  {
   "cell_type": "code",
   "execution_count": 12,
   "metadata": {},
   "outputs": [
    {
     "data": {
      "text/plain": [
       "[(Document(page_content='Hi', metadata={'UID': 'r5bp', 'Questions': 'Hi', 'WelcomeIdentifier': 'Y', 'Type': 'Random', 'Answer': 'Hello! How may I help you?'}),\n",
       "  0.04309403523802757),\n",
       " (Document(page_content='Hello', metadata={'UID': 'k556', 'Questions': 'Hello', 'WelcomeIdentifier': 'Y', 'Type': 'Random', 'Answer': 'Hello! How may I help you?'}),\n",
       "  0.2642967104911804),\n",
       " (Document(page_content='Hey', metadata={'UID': 'wo98', 'Questions': 'Hey', 'WelcomeIdentifier': 'Y', 'Type': 'Random', 'Answer': 'Hello! How may I help you?'}),\n",
       "  0.42709410190582275),\n",
       " (Document(page_content='Hi, nice to meet you.', metadata={'UID': 'c527', 'Questions': 'Hi, nice to meet you.', 'WelcomeIdentifier': 'N', 'Type': 'text', 'Answer': 'Nice meeting you too. How may I help you today?'}),\n",
       "  0.5961214900016785)]"
      ]
     },
     "execution_count": 12,
     "metadata": {},
     "output_type": "execute_result"
    }
   ],
   "source": [
    "docs"
   ]
  },
  {
   "cell_type": "code",
   "execution_count": null,
   "metadata": {},
   "outputs": [],
   "source": []
  }
 ],
 "metadata": {
  "kernelspec": {
   "display_name": "stoic",
   "language": "python",
   "name": "python3"
  },
  "language_info": {
   "codemirror_mode": {
    "name": "ipython",
    "version": 3
   },
   "file_extension": ".py",
   "mimetype": "text/x-python",
   "name": "python",
   "nbconvert_exporter": "python",
   "pygments_lexer": "ipython3",
   "version": "3.11.7"
  }
 },
 "nbformat": 4,
 "nbformat_minor": 2
}
